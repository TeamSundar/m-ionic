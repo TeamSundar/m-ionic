{
 "cells": [
  {
   "cell_type": "code",
   "execution_count": 4,
   "metadata": {},
   "outputs": [],
   "source": [
    "# Save protein sequences as a FASTA file as required by the embedding generator\n",
    "import pickle5 as pickle\n",
    "from tqdm import tqdm\n",
    "# Load pickle file\n",
    "with open('data/datasetB_all_sequences.pkl', 'rb') as f:\n",
    "    data = pickle.load(f)\n",
    "\n",
    "# Write protein sequences in a fasta file\n",
    "with open(\"data/datasetB_all_sequences.fasta\", \"w\") as f:\n",
    "    for key in tqdm(data):\n",
    "        f.write('>'+key+'\\n')\n",
    "        f.write(data[key])\n",
    "        f.write('\\n')\n",
    "f.close()"
   ]
  },
  {
   "cell_type": "code",
   "execution_count": 4,
   "metadata": {},
   "outputs": [
    {
     "name": "stdout",
     "output_type": "stream",
     "text": [
      "1g58_A 196\n",
      "torch.Size([196, 768])\n",
      "tensor([[-0.7342,  0.7721, -0.2252,  ..., -0.7896,  1.2874,  0.9320],\n",
      "        [-0.0884,  0.7979, -0.2805,  ...,  0.1627,  0.5936,  0.3086],\n",
      "        [ 0.7058, -0.5040, -0.4714,  ..., -0.1014,  1.6905, -0.0378],\n",
      "        ...,\n",
      "        [ 0.0742, -0.1984,  0.2745,  ..., -0.9772,  1.1318, -0.0934],\n",
      "        [-0.0326,  0.4182, -0.3380,  ..., -1.2327, -0.1898,  1.3206],\n",
      "        [-0.5076, -0.3772,  0.8009,  ..., -1.1297,  0.0080, -0.9833]])\n"
     ]
    }
   ],
   "source": [
    "\n",
    "models = ['esm2_t33_650M_UR50D', 'esm2_t36_3B_UR50D', 'esm1_t34_670M_UR50S',\n",
    "        'esm1_t6_43M_UR50S', 'esm2_t30_150M_UR50D', 'esm1v_t33_650M_UR90S_1',\n",
    "        'esm1b_t33_650M_UR50S', 'esm2_t12_35M_UR50D', 'esm_msa1b_t12_100M_UR50S',\n",
    "        'esm1_t34_670M_UR50D', 'esm_msa1_t12_100M_UR50S', 'esm2_t6_8M_UR50D',\n",
    "        'esm_if1_gvp4_t16_142M_UR50']\n",
    "\n",
    "import os, torch\n",
    "# Process extracted emb\n",
    "from Bio import SeqIO\n",
    "fasta_sequences = SeqIO.parse(open('data/datasetB_all_sequences.fasta'),'fasta')\n",
    "\n",
    "model_name='esm1_t6_43M_UR50S'\n",
    "\n",
    "for fasta in fasta_sequences:\n",
    "    #print('Filename:', datapoint)\n",
    "    print(fasta.id, len(fasta.seq))\n",
    "    emb = torch.load(model_name+'/'+fasta.id+'.pt')\n",
    "    key = list(emb['representations'].keys())\n",
    "    print(emb['representations'][key[0]].shape)\n",
    "    print(emb['representations'][key[0]])\n",
    "    break"
   ]
  },
  {
   "cell_type": "code",
   "execution_count": null,
   "metadata": {},
   "outputs": [],
   "source": [
    "from tqdm import tqdm\n",
    "import torch, os\n",
    "concatenated_dataset = []\n",
    "model_name='esm1_t6_43M_UR50S'\n",
    "#for fasta in tqdm(fasta_sequences):\n",
    "i = 0\n",
    "for datapoint in tqdm(os.listdir(model_name)):\n",
    "    #emb = torch.load(model_name+'/'+fasta.id+'.pt')\n",
    "    emb = torch.load(model_name+'/'+datapoint)['representations'][6]\n",
    "    concatenated_dataset.append(emb)\n",
    "    \n",
    "final_dataset = torch.cat(concatenated_dataset)"
   ]
  },
  {
   "cell_type": "code",
   "execution_count": 9,
   "metadata": {},
   "outputs": [
    {
     "data": {
      "text/plain": [
       "(torch.Size([451563, 768]), torch.Size([48, 768]))"
      ]
     },
     "execution_count": 9,
     "metadata": {},
     "output_type": "execute_result"
    }
   ],
   "source": [
    "torch.cat(concatenated_dataset).shape, emb.shape"
   ]
  },
  {
   "cell_type": "code",
   "execution_count": 59,
   "metadata": {},
   "outputs": [],
   "source": [
    "#import pandas as pd\n",
    "from torch.utils.data import Dataset, DataLoader\n",
    "\n",
    "class ProtEmbDataset(Dataset):\n",
    "    \"\"\"Protein emb dataset.\"\"\"\n",
    "    def __init__(self, model_name, transform=None):\n",
    "        \"\"\"\n",
    "        Args:\n",
    "            root_dir (string): Directory with all the datapoints.\n",
    "            transform (callable, optional): Optional transform to be applied\n",
    "                on a sample.\n",
    "        \"\"\"\n",
    "        self.model_name = model_name\n",
    "        self.filenames = os.listdir(model_name)\n",
    "\n",
    "    def __len__(self):\n",
    "        return len(self.filenames)\n",
    "\n",
    "    def __getitem__(self, idx):\n",
    "        file = self.filenames[idx]\n",
    "        emb = torch.load(model_name+'/'+file)\n",
    "        key = list(emb['representations'].keys())\n",
    "        sample = emb['representations'][key[0]]\n",
    "        return sample"
   ]
  },
  {
   "cell_type": "code",
   "execution_count": 60,
   "metadata": {},
   "outputs": [],
   "source": [
    "model_name = 'esm1_t6_43M_UR50S'\n",
    "root_dir = 'data'\n",
    "protein_dataset = ProtEmbDataset(model_name)"
   ]
  },
  {
   "cell_type": "code",
   "execution_count": 61,
   "metadata": {},
   "outputs": [],
   "source": [
    "dataloader = DataLoader(protein_dataset, batch_size=1,\n",
    "                        shuffle=True, num_workers=4)"
   ]
  },
  {
   "cell_type": "code",
   "execution_count": 62,
   "metadata": {},
   "outputs": [
    {
     "name": "stdout",
     "output_type": "stream",
     "text": [
      "torch.Size([162, 768])\n",
      "torch.Size([1, 162, 768])\n"
     ]
    }
   ],
   "source": [
    "for datapoint in dataloader:\n",
    "    #datapoint = datapoint.view(-1)\n",
    "    print(torch.squeeze(datapoint).shape)\n",
    "    print(datapoint.shape)\n",
    "    break"
   ]
  },
  {
   "cell_type": "code",
   "execution_count": 69,
   "metadata": {},
   "outputs": [],
   "source": [
    "from torch.utils.data import Dataset, DataLoader, random_split, SubsetRandomSampler, WeightedRandomSampler\n",
    "import torch.utils.data as data\n",
    "import numpy as np\n",
    "\n",
    "# Create a validation and training set\n",
    "samples_count = len(protein_dataset)\n",
    "all_samples_indexes = list(range(samples_count))\n",
    "np.random.shuffle(all_samples_indexes)\n",
    "\n",
    "al_ratio = 0.2\n",
    "val_end = int(samples_count * 0.2)\n",
    "val_indexes = all_samples_indexes[0:val_end]\n",
    "train_indexes = all_samples_indexes[val_end:]\n",
    "assert len(val_indexes) + len(train_indexes) == samples_count , 'the split is not valid' \n",
    "\n",
    "sampler_train = data.SubsetRandomSampler(train_indexes)\n",
    "sampler_val = data.SubsetRandomSampler(val_indexes)\n",
    "\n",
    "dataloader_train = DataLoader(protein_dataset, batch_size=1, sampler = sampler_train, num_workers=4)\n",
    "dataloader_val = DataLoader(protein_dataset, batch_size=1, sampler = sampler_val, num_workers=4)\n",
    "# dataloader_test = DataLoader(protein_dataset, batch_size=1,\n",
    "#                         shuffle=True, num_workers=4)"
   ]
  },
  {
   "cell_type": "code",
   "execution_count": null,
   "metadata": {},
   "outputs": [],
   "source": [
    "class MultiTaskModel(nn.Module):\n",
    "    \"\"\"\n",
    "    Creates a MTL model with the encoder from \"arch\" and with dropout multiplier ps.\n",
    "    \"\"\"\n",
    "    def __init__(self, arch,ps=0.5):\n",
    "        super(MultiTaskModel,self).__init__()\n",
    "        self.encoder = create_body(arch)        #fastai function that creates an encoder given an architecture\n",
    "        self.fc1 = create_head(1024,1,ps=ps)    #fastai function that creates a head\n",
    "        self.fc2 = create_head(1024,2,ps=ps)\n",
    "        self.fc3 = create_head(1024,5,ps=ps)\n",
    "\n",
    "    def forward(self,x):\n",
    "\n",
    "        x = self.encoder(x)\n",
    "        age = torch.sigmoid(self.fc1(x))\n",
    "        gender = self.fc2(x)\n",
    "        ethnicity = self.fc3(x)\n",
    "\n",
    "        return [ion1, ion2, ion3]"
   ]
  }
 ],
 "metadata": {
  "kernelspec": {
   "display_name": "Python 3.6.13 ('ion')",
   "language": "python",
   "name": "python3"
  },
  "language_info": {
   "codemirror_mode": {
    "name": "ipython",
    "version": 3
   },
   "file_extension": ".py",
   "mimetype": "text/x-python",
   "name": "python",
   "nbconvert_exporter": "python",
   "pygments_lexer": "ipython3",
   "version": "3.6.13"
  },
  "orig_nbformat": 4,
  "vscode": {
   "interpreter": {
    "hash": "9eea4ac00fc0dad156dbd79745452f299f7f980b7a63c4943f7dd0031d0ee12d"
   }
  }
 },
 "nbformat": 4,
 "nbformat_minor": 2
}
