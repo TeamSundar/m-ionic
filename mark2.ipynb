{
 "cells": [
  {
   "cell_type": "markdown",
   "metadata": {},
   "source": [
    " ## Import data and build dataloader"
   ]
  },
  {
   "cell_type": "code",
   "execution_count": 1,
   "metadata": {},
   "outputs": [
    {
     "name": "stderr",
     "output_type": "stream",
     "text": [
      "/home/dell4/miniconda3/envs/ion/lib/python3.6/site-packages/tqdm/auto.py:22: TqdmWarning: IProgress not found. Please update jupyter and ipywidgets. See https://ipywidgets.readthedocs.io/en/stable/user_install.html\n",
      "  from .autonotebook import tqdm as notebook_tqdm\n"
     ]
    }
   ],
   "source": [
    "#import pandas as pd\n",
    "from torch.utils.data import Dataset, DataLoader\n",
    "import torch, os, collections\n",
    "import pandas as pd\n",
    "import pickle5 as pickle\n",
    "from tqdm import tqdm\n",
    "\n",
    "class ProtEmbDataset(Dataset):\n",
    "    \"\"\"Protein emb dataset.\"\"\"\n",
    "    def __init__(self, model_name, transform=None):\n",
    "        \"\"\"\n",
    "        Args:\n",
    "            root_dir (string): Directory with all the datapoints.\n",
    "            transform (callable, optional): Optional transform to be applied\n",
    "                on a sample.\n",
    "        \"\"\"\n",
    "        self.data_path = '/media/dell4/a87d4a0b-5641-40d3-8d10-416948fc2996/ION_DATA/%s_batch128/'%(model_name)\n",
    "        self.filenames = os.listdir(self.data_path)\n",
    "\n",
    "    def __len__(self):\n",
    "        return len(self.filenames)\n",
    "\n",
    "    def __getitem__(self, idx):\n",
    "        file_ = self.filenames[idx]\n",
    "        with open(self.data_path+file_, 'rb') as handle:\n",
    "            datapoint = pickle.load(handle)\n",
    "        embs = datapoint['embs']\n",
    "        labels = datapoint['labels']\n",
    "        return embs, labels\n",
    "\n",
    "# # Load pickle file\n",
    "# with open('data/reduced.pkl', 'rb') as f:\n",
    "#     data = pickle.load(f)\n",
    "\n",
    "model_name = 'esm1_t6_43M_UR50S'\n",
    "protein_dataset = ProtEmbDataset(model_name, model_name)"
   ]
  },
  {
   "cell_type": "code",
   "execution_count": 2,
   "metadata": {},
   "outputs": [
    {
     "data": {
      "text/plain": [
       "(176, 43)"
      ]
     },
     "execution_count": 2,
     "metadata": {},
     "output_type": "execute_result"
    }
   ],
   "source": [
    "from torch.utils.data import Dataset, DataLoader, random_split, SubsetRandomSampler, WeightedRandomSampler\n",
    "import torch.utils.data as data\n",
    "import numpy as np\n",
    "\n",
    "# Create a validation and training set\n",
    "samples_count = len(protein_dataset)\n",
    "all_samples_indexes = list(range(samples_count))\n",
    "np.random.shuffle(all_samples_indexes)\n",
    "\n",
    "val_ratio = 0.2\n",
    "val_end = int(samples_count * val_ratio)\n",
    "val_indexes = all_samples_indexes[0:val_end]\n",
    "train_indexes = all_samples_indexes[val_end:]\n",
    "assert len(val_indexes) + len(train_indexes) == samples_count , 'the split is not valid' \n",
    "\n",
    "sampler_train = data.SubsetRandomSampler(train_indexes)\n",
    "sampler_val = data.SubsetRandomSampler(val_indexes)\n",
    "\n",
    "dataloader_train = DataLoader(protein_dataset, batch_size=1, sampler = sampler_train, num_workers=4)\n",
    "dataloader_val = DataLoader(protein_dataset, batch_size=1, sampler = sampler_val, num_workers=4)\n",
    "# dataloader_test = DataLoader(protein_dataset, batch_size=1,\n",
    "#                         shuffle=True, num_workers=4)\n",
    "\n",
    "len(dataloader_train), len(dataloader_val)"
   ]
  },
  {
   "cell_type": "code",
   "execution_count": 5,
   "metadata": {},
   "outputs": [
    {
     "data": {
      "text/plain": [
       "dict_keys(['CA', 'CO', 'CU', 'FE2', 'FE', 'MG', 'MN', 'PO4', 'SO4', 'ZN', 'null'])"
      ]
     },
     "execution_count": 5,
     "metadata": {},
     "output_type": "execute_result"
    }
   ],
   "source": [
    "dataloader_train.dataset[0][1].keys()"
   ]
  },
  {
   "cell_type": "markdown",
   "metadata": {},
   "source": [
    "## Initialize model"
   ]
  },
  {
   "cell_type": "code",
   "execution_count": 12,
   "metadata": {},
   "outputs": [],
   "source": [
    "import torch\n",
    "import torch.nn as nn\n",
    "import torch.nn.functional as F\n",
    "\n",
    "\n",
    "class Self_Attention(nn.Module):\n",
    "    def __init__(self, num_hidden, num_heads=4):\n",
    "        super().__init__()\n",
    "        self.num_heads = num_heads\n",
    "        self.attention_head_size = int(num_hidden / num_heads)\n",
    "        self.all_head_size = self.num_heads * self.attention_head_size\n",
    "\n",
    "    def transpose_for_scores(self, x):\n",
    "        new_x_shape = x.size()[:-1] + (self.num_heads, self.attention_head_size)\n",
    "        x = x.view(*new_x_shape)\n",
    "        #print(x.shape)\n",
    "        return x.permute(0, 2, 1)\n",
    "\n",
    "    def forward(self, q, k, v, mask=None):\n",
    "        q = self.transpose_for_scores(q) # [bsz, heads, protein_len, hid]\n",
    "        k = self.transpose_for_scores(k)\n",
    "        v = self.transpose_for_scores(v)\n",
    "\n",
    "        attention_scores = torch.matmul(q, k.transpose(-1, -2))\n",
    "\n",
    "        if mask is not None:\n",
    "            attention_mask = (1.0 - mask) * -10000\n",
    "            attention_scores = attention_scores + attention_mask.unsqueeze(1).unsqueeze(1)\n",
    "\n",
    "        attention_scores = nn.Softmax(dim=-1)(attention_scores)\n",
    "\n",
    "        outputs = torch.matmul(attention_scores, v)\n",
    "\n",
    "        outputs = outputs.permute(0, 2, 1).contiguous()\n",
    "        new_output_shape = outputs.size()[:-2] + (self.all_head_size,)\n",
    "        outputs = outputs.view(*new_output_shape)\n",
    "        return outputs\n",
    "\n",
    "\n",
    "class PositionWiseFeedForward(nn.Module):\n",
    "    def __init__(self, num_hidden, num_ff):\n",
    "        super(PositionWiseFeedForward, self).__init__()\n",
    "        self.W_in = nn.Linear(num_hidden, num_ff, bias=True)\n",
    "        self.W_out = nn.Linear(num_ff, num_hidden, bias=True)\n",
    "\n",
    "    def forward(self, h_V):\n",
    "        h = F.leaky_relu(self.W_in(h_V))\n",
    "        h = self.W_out(h)\n",
    "        return h\n",
    "\n",
    "class TransformerLayer(nn.Module):\n",
    "    def __init__(self, num_hidden = 64, num_heads = 4, dropout = 0.2):\n",
    "        super(TransformerLayer, self).__init__()\n",
    "        self.dropout = nn.Dropout(dropout)\n",
    "        self.norm = nn.ModuleList([nn.LayerNorm(num_hidden, eps=1e-6) for _ in range(2)])\n",
    "\n",
    "        self.attention = Self_Attention(num_hidden, num_heads)\n",
    "        self.dense = PositionWiseFeedForward(num_hidden, num_hidden * 4)\n",
    "\n",
    "    def forward(self, h_V, mask=None):\n",
    "        # Self-attention\n",
    "        dh = self.attention(h_V, h_V, h_V, mask)\n",
    "        h_V = self.norm[0](h_V + self.dropout(dh))\n",
    "\n",
    "        # Position-wise feedforward\n",
    "        dh = self.dense(h_V)\n",
    "        h_V = self.norm[1](h_V + self.dropout(dh))\n",
    "\n",
    "        if mask is not None:\n",
    "            mask = mask.unsqueeze(-1)\n",
    "            h_V = mask * h_V\n",
    "        return h_V\n",
    "\n",
    "\n",
    "class IonicProtein(nn.Module):\n",
    "    def __init__(self, feature_dim, hidden_dim=64, num_encoder_layers=2, num_heads=4, augment_eps=0.05, dropout=0.2):\n",
    "        super(IonicProtein, self).__init__()\n",
    "\n",
    "        # Hyperparameters\n",
    "        self.augment_eps = augment_eps\n",
    "\n",
    "        # Embedding layers\n",
    "        self.input_block = nn.Sequential(\n",
    "                                         nn.LayerNorm(feature_dim, eps=1e-6)\n",
    "                                        ,nn.Linear(feature_dim, hidden_dim)\n",
    "                                        ,nn.LeakyReLU()\n",
    "                                        )\n",
    "\n",
    "        self.hidden_block = nn.Sequential(\n",
    "                                          nn.LayerNorm(hidden_dim, eps=1e-6)\n",
    "                                         ,nn.Dropout(dropout)\n",
    "                                         ,nn.Linear(hidden_dim, hidden_dim)\n",
    "                                         ,nn.LeakyReLU()\n",
    "                                         ,nn.LayerNorm(hidden_dim, eps=1e-6)\n",
    "                                         )\n",
    "\n",
    "        # Encoder layers\n",
    "        self.encoder_layers = nn.ModuleList([\n",
    "            TransformerLayer(hidden_dim, num_heads, dropout)\n",
    "            for _ in range(num_encoder_layers)\n",
    "        ])\n",
    "\n",
    "        # ion-specific layers\n",
    "        # dict_keys(['CA', 'CO', 'CU', 'FE2', 'FE', 'MG', 'MN', 'PO4', 'SO4', 'ZN', 'null'])\n",
    "        self.FC_CA_1 = nn.Linear(hidden_dim, hidden_dim, bias=True)\n",
    "        self.FC_CA_2 = nn.Linear(hidden_dim, 1, bias=True)\n",
    "        self.FC_CO_1 = nn.Linear(hidden_dim, hidden_dim, bias=True)\n",
    "        self.FC_CO_2 = nn.Linear(hidden_dim, 1, bias=True)\n",
    "        self.FC_CU_1 = nn.Linear(hidden_dim, hidden_dim, bias=True)\n",
    "        self.FC_CU_2 = nn.Linear(hidden_dim, 1, bias=True)\n",
    "        self.FC_FE2_1 = nn.Linear(hidden_dim, hidden_dim, bias=True)\n",
    "        self.FC_FE2_2 = nn.Linear(hidden_dim, 1, bias=True)\n",
    "        self.FC_FE_1 = nn.Linear(hidden_dim, hidden_dim, bias=True)\n",
    "        self.FC_FE_2 = nn.Linear(hidden_dim, 1, bias=True)\n",
    "        self.FC_MG_1 = nn.Linear(hidden_dim, hidden_dim, bias=True)\n",
    "        self.FC_MG_2 = nn.Linear(hidden_dim, 1, bias=True)\n",
    "        self.FC_MN_1 = nn.Linear(hidden_dim, hidden_dim, bias=True)\n",
    "        self.FC_MN_2 = nn.Linear(hidden_dim, 1, bias=True)\n",
    "        self.FC_PO4_1 = nn.Linear(hidden_dim, hidden_dim, bias=True)\n",
    "        self.FC_PO4_2 = nn.Linear(hidden_dim, 1, bias=True)\n",
    "        self.FC_SO4_1 = nn.Linear(hidden_dim, hidden_dim, bias=True)\n",
    "        self.FC_SO4_2 = nn.Linear(hidden_dim, 1, bias=True)\n",
    "        self.FC_ZN_1 = nn.Linear(hidden_dim, hidden_dim, bias=True)\n",
    "        self.FC_ZN_2 = nn.Linear(hidden_dim, 1, bias=True)\n",
    "        self.FC_null1 = nn.Linear(hidden_dim, hidden_dim, bias=True)\n",
    "        self.FC_null2 = nn.Linear(hidden_dim, 1, bias=True)\n",
    "\n",
    "        # Initialization\n",
    "        for p in self.parameters():\n",
    "            if p.dim() > 1:\n",
    "                nn.init.xavier_uniform_(p)\n",
    "\n",
    "\n",
    "    def forward(self, protein_feat, mask):\n",
    "        # Data augmentation\n",
    "        if self.training and self.augment_eps > 0:\n",
    "            protein_feat = protein_feat + self.augment_eps * torch.randn_like(protein_feat)\n",
    "\n",
    "        h_V = self.input_block(protein_feat)\n",
    "        h_V = self.hidden_block(h_V)\n",
    "\n",
    "        for layer in self.encoder_layers:\n",
    "            h_V = layer(h_V, mask)\n",
    "        \n",
    "        #print(h_V)\n",
    "        # dict_keys(['CA', 'CO', 'CU', 'FE2', 'FE', 'MG', 'MN', 'PO4', 'SO4', 'ZN', 'null'])\n",
    "        logits_CA = self.FC_CA_2(F.leaky_relu(self.FC_CA_1(h_V))).squeeze(-1) # [batch_size, maxlen]\n",
    "        logits_CO = self.FC_CO_2(F.leaky_relu(self.FC_CO_1(h_V))).squeeze(-1)\n",
    "        logits_CU = self.FC_CU_2(F.leaky_relu(self.FC_CU_1(h_V))).squeeze(-1)\n",
    "        logits_FE2 = self.FC_FE2_2(F.leaky_relu(self.FC_FE2_1(h_V))).squeeze(-1)\n",
    "        logits_FE = self.FC_FE_2(F.leaky_relu(self.FC_FE_1(h_V))).squeeze(-1) # [batch_size, maxlen]\n",
    "        logits_MG = self.FC_MG_2(F.leaky_relu(self.FC_MG_1(h_V))).squeeze(-1)\n",
    "        logits_MN = self.FC_MN_2(F.leaky_relu(self.FC_MN_1(h_V))).squeeze(-1)\n",
    "        logits_PO4 = self.FC_PO4_2(F.leaky_relu(self.FC_PO4_1(h_V))).squeeze(-1)\n",
    "        logits_SO4 = self.FC_SO4_2(F.leaky_relu(self.FC_SO4_1(h_V))).squeeze(-1) # [batch_size, maxlen]\n",
    "        logits_ZN = self.FC_ZN_2(F.leaky_relu(self.FC_ZN_1(h_V))).squeeze(-1)\n",
    "        logits_null = self.FC_null2(F.leaky_relu(self.FC_null1(h_V))).squeeze(-1)\n",
    "\n",
    "        #print(logits_ZN.shape, logits_CA.shape, logits_MG.shape, logits_MN.shape)\n",
    "        \n",
    "        #logits = torch.cat((logits_ZN, logits_CA, logits_MG, logits_MN), 1)\n",
    "        return logits_CA, logits_CO, logits_CU, logits_FE2, logits_FE, logits_MG, logits_MN, logits_PO4, logits_SO4, logits_ZN, logits_null"
   ]
  },
  {
   "cell_type": "code",
   "execution_count": 10,
   "metadata": {},
   "outputs": [],
   "source": [
    "# for i, (embs, labels) in enumerate(dataloader_train):\n",
    "#     #print(i, embs, labels)\n",
    "#     embs = torch.squeeze(embs)\n",
    "#     #fields = ['ZN', 'CA', 'MG', 'MN', 'null']\n",
    "#     fields = list(dataloader_train.dataset[0][1].keys())\n",
    "#     labels = [torch.tensor(labels[key], dtype=float) for key in fields]\n",
    "#     #(lbl_ion1, lbl_ion2, lbl_ion3, lbl_ion4, lbl_null) = labels\n",
    "#     break"
   ]
  },
  {
   "cell_type": "code",
   "execution_count": 23,
   "metadata": {},
   "outputs": [],
   "source": [
    "from sklearn.metrics import f1_score\n",
    "\n",
    "def train_val(model, dataloader, optimizer, criterion_1, is_training, device, topk, interval, e):\n",
    "    batch_cnt = len(dataloader)\n",
    "    fields = list(dataloader.dataset[0][1].keys())\n",
    "    #fields = ['ZN', 'CA', 'MG', 'MN', 'null']\n",
    "    #accuracies = [0.0]*len(fields)\n",
    "    f1_scores = [0.0]*len(fields)\n",
    "    status = 'training' if is_training else 'validation'\n",
    "\n",
    "    with torch.set_grad_enabled(is_training):\n",
    "        model.train() if is_training else model.eval()\n",
    "        with tqdm(dataloader, unit=\"batch\") as tepoch:\n",
    "            loss_, f1_score_mc_ = [], []\n",
    "            for embs, labels in tepoch:\n",
    "                tepoch.set_description(f\"Epoch {e}\")\n",
    "                embs = torch.squeeze(embs).to(device)\n",
    "                #embs = torch.unsqueeze(embs, (2)).to(device)\n",
    "                #print(fields)\n",
    "                labels_ = [torch.squeeze(torch.tensor(labels[key], dtype=float)).to(device) for key in fields]\n",
    "                (lbl_ion1, lbl_ion2, lbl_ion3, lbl_ion4, lbl_ion5, lbl_ion6, lbl_ion7, lbl_ion8, lbl_ion9, lbl_ion10, lbl_null) = labels_\n",
    "\n",
    "                #print(embs.shape)\n",
    "                predictions = model(embs, mask=None)\n",
    "                (prd_ion1, prd_ion2, prd_ion3, prd_ion4, prd_ion5, prd_ion6, prd_ion7, prd_ion8, prd_ion9, prd_ion10, prd_null) = predictions\n",
    "\n",
    "                def cal_loss(prd, lbl):\n",
    "                    return criterion_1(torch.squeeze(prd), lbl)\n",
    "\n",
    "                loss_final = 0\n",
    "                for prds, lbls in zip(predictions, labels_):\n",
    "                    loss_final+=cal_loss(prds, lbls)\n",
    "\n",
    "                m = nn.Sigmoid()\n",
    "\n",
    "                # f1_scores[0] = f1_score(lbl_ion1.cpu().data.numpy(), \n",
    "                #                 torch.round(m(prd_ion1)).cpu().data.numpy(), average='macro')\n",
    "                # f1_scores[1] = f1_score(lbl_ion2.cpu().data.numpy(),\n",
    "                #                 torch.round(m(prd_ion2)).cpu().data.numpy(), average='macro')\n",
    "                # f1_scores[2] = f1_score(lbl_ion3.cpu().data.numpy(),\n",
    "                #                 torch.round(m(prd_ion3)).cpu().data.numpy(), average='macro')\n",
    "                # f1_scores[3] = f1_score(lbl_ion4.cpu().data.numpy(), \n",
    "                #                 torch.round(m(prd_ion4)).cpu().data.numpy(), average='macro')\n",
    "                # f1_scores[4] = f1_score(lbl_null.cpu().data.numpy(), \n",
    "                #                 torch.round(m(prd_null)).cpu().data.numpy(), average='macro')\n",
    "\n",
    "                #print(torch.round(m(torch.stack(predictions))).cpu().data.numpy(), torch.stack(labels_).cpu().data.numpy())\n",
    "                f1_score_mc = f1_score(torch.round(m(torch.stack(predictions))).cpu().data.numpy(),\n",
    "                                        torch.stack(labels_).cpu().data.numpy(), average='micro')\n",
    "\n",
    "                tepoch.set_postfix(loss=loss_final, f1_avg=f1_score_mc)\n",
    "\n",
    "                #print(accuracies)\n",
    "\n",
    "                if is_training:\n",
    "                    optimizer.zero_grad()\n",
    "                    loss_final.backward()\n",
    "                    optimizer.step()\n",
    "\n",
    "                loss_.append(loss_final)\n",
    "                f1_score_mc_.append(f1_score_mc)\n",
    "            \n",
    "                # if i%interval==0:\n",
    "                #     # accs = [acc/batch_cnt for acc in accuracies]\n",
    "                #     accs = [acc for acc in f1_scores]\n",
    "                #     print(f'[{status}] iter: {i} loss: {loss_final.item():6f}')\n",
    "                #     print (' ,'.join(list(f'{f}: {x:.4f}' for f, x in zip(fields, accs))))\n",
    "                #     print('F1score MC:', f1_score_mc)\n",
    "    return loss_, f1_score_mc_\n",
    "            \n",
    "from tqdm import trange\n",
    "\n",
    "def train_loop(model, epochs, dataloader_train, dataloader_val,\n",
    "               optimizer, lr_scheduler, criterion_1, interval):\n",
    "\n",
    "    device = torch.device('cuda' if torch.cuda.is_available() else 'cpu')\n",
    "    model = model.to(device)\n",
    "    net_loss_train, net_f1_train, net_loss_test, net_f1_test = [], [], [], []\n",
    "\n",
    "    for e in range(epochs):\n",
    "        with tqdm(dataloader_train, unit=\"batch\") as tepoch:\n",
    "            lrs = [f'{lr:.6f}' for lr in lr_scheduler.get_lr()]\n",
    "            #print(f'epoch {e} : lrs : {\" \".join(lrs)}')\n",
    "            loss_, f1_score_mc_ = train_val(model, dataloader_train, optimizer, criterion_1, True, device, 1, interval, e)\n",
    "            net_loss_train.append((sum(loss_)/len(dataloader_train)).item())   # Save loss\n",
    "            net_f1_train.append((sum(f1_score_mc_)/len(dataloader_train)).item()) # Save f1\n",
    "\n",
    "            loss_, f1_score_mc_ = train_val(model, dataloader_val, optimizer, criterion_1, False, device, 1, interval, e)\n",
    "            net_loss_test.append((sum(loss_)/len(dataloader_val)).item())  # Save loss\n",
    "            net_f1_test.append((sum(f1_score_mc_)/len(dataloader_val)).item()) # Save f1\n",
    "            lr_scheduler.step()\n",
    "\n",
    "    return  net_loss_train, net_f1_train, net_loss_test, net_f1_test\n",
    "        "
   ]
  },
  {
   "cell_type": "code",
   "execution_count": 8,
   "metadata": {},
   "outputs": [
    {
     "data": {
      "text/plain": [
       "176"
      ]
     },
     "execution_count": 8,
     "metadata": {},
     "output_type": "execute_result"
    }
   ],
   "source": [
    "len(dataloader_train)"
   ]
  },
  {
   "cell_type": "code",
   "execution_count": 24,
   "metadata": {},
   "outputs": [
    {
     "name": "stderr",
     "output_type": "stream",
     "text": [
      "Epoch 0: 100%|██████████| 176/176 [01:37<00:00,  1.80batch/s, f1_avg=0.985, loss=tensor(0.1709, device='cuda:0', dtype=torch.float64, grad_fn=<AddBackward0>)]\n",
      "Epoch 0: 100%|██████████| 43/43 [00:25<00:00,  1.67batch/s, f1_avg=0.986, loss=tensor(0.1534, device='cuda:0', dtype=torch.float64)]\n",
      "  0%|          | 0/176 [02:03<?, ?batch/s]\n",
      "Epoch 1: 100%|██████████| 176/176 [01:37<00:00,  1.81batch/s, f1_avg=0.977, loss=tensor(0.2050, device='cuda:0', dtype=torch.float64, grad_fn=<AddBackward0>)]\n",
      "Epoch 1: 100%|██████████| 43/43 [00:25<00:00,  1.71batch/s, f1_avg=0.974, loss=tensor(0.2724, device='cuda:0', dtype=torch.float64)]\n",
      "  0%|          | 0/176 [02:03<?, ?batch/s]\n",
      "Epoch 2: 100%|██████████| 176/176 [01:37<00:00,  1.80batch/s, f1_avg=0.988, loss=tensor(0.0920, device='cuda:0', dtype=torch.float64, grad_fn=<AddBackward0>)]\n",
      "Epoch 2: 100%|██████████| 43/43 [00:25<00:00,  1.67batch/s, f1_avg=0.98, loss=tensor(0.2634, device='cuda:0', dtype=torch.float64)]\n",
      "  0%|          | 0/176 [02:04<?, ?batch/s]\n",
      "Epoch 3: 100%|██████████| 176/176 [01:38<00:00,  1.78batch/s, f1_avg=0.992, loss=tensor(0.0696, device='cuda:0', dtype=torch.float64, grad_fn=<AddBackward0>)]\n",
      "Epoch 3: 100%|██████████| 43/43 [00:26<00:00,  1.62batch/s, f1_avg=0.991, loss=tensor(0.0662, device='cuda:0', dtype=torch.float64)]\n",
      "  0%|          | 0/176 [02:06<?, ?batch/s]\n",
      "Epoch 4: 100%|██████████| 176/176 [01:39<00:00,  1.77batch/s, f1_avg=0.981, loss=tensor(0.1700, device='cuda:0', dtype=torch.float64, grad_fn=<AddBackward0>)]\n",
      "Epoch 4: 100%|██████████| 43/43 [00:25<00:00,  1.66batch/s, f1_avg=0.978, loss=tensor(0.1729, device='cuda:0', dtype=torch.float64)]\n",
      "  0%|          | 0/176 [02:06<?, ?batch/s]\n",
      "Epoch 5: 100%|██████████| 176/176 [01:39<00:00,  1.76batch/s, f1_avg=0.988, loss=tensor(0.0954, device='cuda:0', dtype=torch.float64, grad_fn=<AddBackward0>)]\n",
      "Epoch 5: 100%|██████████| 43/43 [00:25<00:00,  1.68batch/s, f1_avg=0.992, loss=tensor(0.0610, device='cuda:0', dtype=torch.float64)]\n",
      "  0%|          | 0/176 [02:06<?, ?batch/s]\n",
      "Epoch 6: 100%|██████████| 176/176 [01:38<00:00,  1.79batch/s, f1_avg=0.98, loss=tensor(0.1799, device='cuda:0', dtype=torch.float64, grad_fn=<AddBackward0>)]\n",
      "Epoch 6: 100%|██████████| 43/43 [00:25<00:00,  1.68batch/s, f1_avg=0.988, loss=tensor(0.1242, device='cuda:0', dtype=torch.float64)]\n",
      "  0%|          | 0/176 [02:04<?, ?batch/s]\n",
      "Epoch 7: 100%|██████████| 176/176 [01:38<00:00,  1.78batch/s, f1_avg=0.989, loss=tensor(0.0842, device='cuda:0', dtype=torch.float64, grad_fn=<AddBackward0>)]\n",
      "Epoch 7: 100%|██████████| 43/43 [00:25<00:00,  1.66batch/s, f1_avg=0.986, loss=tensor(0.1224, device='cuda:0', dtype=torch.float64)]\n",
      "  0%|          | 0/176 [02:05<?, ?batch/s]\n",
      "Epoch 8: 100%|██████████| 176/176 [01:37<00:00,  1.81batch/s, f1_avg=0.988, loss=tensor(0.1116, device='cuda:0', dtype=torch.float64, grad_fn=<AddBackward0>)]\n",
      "Epoch 8: 100%|██████████| 43/43 [00:25<00:00,  1.67batch/s, f1_avg=0.997, loss=tensor(0.0344, device='cuda:0', dtype=torch.float64)]\n",
      "  0%|          | 0/176 [02:04<?, ?batch/s]\n",
      "Epoch 9: 100%|██████████| 176/176 [01:39<00:00,  1.76batch/s, f1_avg=0.976, loss=tensor(0.2884, device='cuda:0', dtype=torch.float64, grad_fn=<AddBackward0>)]\n",
      "Epoch 9: 100%|██████████| 43/43 [00:26<00:00,  1.65batch/s, f1_avg=0.994, loss=tensor(0.0507, device='cuda:0', dtype=torch.float64)]\n",
      "  0%|          | 0/176 [02:06<?, ?batch/s]\n"
     ]
    }
   ],
   "source": [
    "import torch\n",
    "\n",
    "import warnings\n",
    "warnings.filterwarnings(\"ignore\")\n",
    "\n",
    "device = torch.device('cuda' if torch.cuda.is_available() else 'cpu')\n",
    "# #device = 'cpu'\n",
    "#model = IonNet(768).to(device=device)\n",
    "model = IonicProtein(dataloader_train.dataset[0][0].shape[1]).to(device)\n",
    "criterion_1 = nn.BCEWithLogitsLoss()\n",
    "#criterion_2 = nn.MultiLabelSoftMarginLoss()\n",
    "#criterion_1 = nn.MSELoss()\n",
    "\n",
    "epochs = 10\n",
    "lr = 0.001\n",
    "\n",
    "optimizer = torch.optim.Adam(model.parameters(), lr = lr)\n",
    "\n",
    "lrsched = torch.optim.lr_scheduler.StepLR(optimizer, 10)\n",
    "\n",
    "net_loss_train, net_f1_train, net_loss_test, net_f1_test = train_loop(model, epochs, dataloader_train, dataloader_val, optimizer, lrsched, criterion_1, 100)"
   ]
  },
  {
   "cell_type": "code",
   "execution_count": 58,
   "metadata": {},
   "outputs": [
    {
     "data": {
      "image/png": "[encoded data removed]",
      "text/plain": [
       "<Figure size 576x288 with 2 Axes>"
      ]
     },
     "metadata": {
      "needs_background": "light"
     },
     "output_type": "display_data"
    }
   ],
   "source": [
    "import matplotlib.pyplot as plt\n",
    "# net_loss_train, net_f1_train, net_loss_test, net_f1_test\n",
    "fig, ax = plt.subplots(1,2, figsize=(8, 4))\n",
    "ax[1].plot(range(len(net_loss_train)), net_loss_train, label='Train loss')\n",
    "ax[1].plot(range(len(net_loss_test)), net_loss_test, label='Test loss')\n",
    "ax[1].set_ylabel('Model loss', fontsize=12, fontweight='bold')\n",
    "ax[1].set_xlabel('Epochs', fontsize=12, fontweight='bold')\n",
    "ax[1].legend()\n",
    "ax[0].plot(range(len(net_f1_train)), net_f1_train, label='net_f1_train')\n",
    "ax[0].plot(range(len(net_f1_test)), net_f1_test, label='net_f1_test')\n",
    "ax[0].set_ylabel('F1 score (macro avg.)', fontsize=12, fontweight='bold')\n",
    "ax[0].set_xlabel('Epochs', fontsize=12, fontweight='bold')\n",
    "ax[0].legend()\n",
    "fig.suptitle('Training statistics: %s'%(model_name), fontsize=14, fontweight='bold')\n",
    "plt.tight_layout()\n"
   ]
  },
  {
   "cell_type": "code",
   "execution_count": 60,
   "metadata": {},
   "outputs": [],
   "source": [
    "training_stats = pd.DataFrame()\n",
    "training_stats['net_loss_train'] = net_loss_train\n",
    "training_stats['net_loss_test'] = net_loss_test\n",
    "training_stats['net_f1_train'] = net_f1_train\n",
    "training_stats['net_f1_test'] = net_f1_test\n",
    "\n",
    "training_stats.to_csv('checkpoints/%s.csv'%(model_name))"
   ]
  },
  {
   "cell_type": "code",
   "execution_count": 16,
   "metadata": {},
   "outputs": [
    {
     "name": "stderr",
     "output_type": "stream",
     "text": [
      "0it [00:05, ?it/s]\n"
     ]
    }
   ],
   "source": [
    "#fields = list(dataloader.dataset[0][1].keys())\n",
    "fields = ['ZN', 'CA', 'MG', 'MN', 'null']\n",
    "accuracies = [0.0]*len(fields)\n",
    "#status = 'training' if is_training else 'validation'\n",
    "device = torch.device('cuda' if torch.cuda.is_available() else 'cpu')\n",
    "\n",
    "m = nn.Sigmoid()\n",
    "\n",
    "for i, (embs, labels) in tqdm(enumerate(dataloader_train)):\n",
    "    embs = torch.squeeze(embs).to(device)\n",
    "    #mbs = torch.unsqueeze(embs, (2)).to(device)\n",
    "    #print(fields)\n",
    "    labels = [torch.tensor(labels[key], dtype=float).to(device) for key in fields]\n",
    "    (lbl_ion1, lbl_ion2, lbl_ion3, lbl_ion4, lbl_null) = labels\n",
    "    preds = model(embs, mask=None)\n",
    "    (prd_ion1, prd_ion2, prd_ion3, prd_ion4, prd_null) = preds\n",
    "    \n",
    "    #accuracies = [0.0]*len(fields)\n",
    "    accuracies[0] = torch.mean((torch.round(m(prd_ion1)) == lbl_ion1).float())\n",
    "    accuracies[1] = torch.mean((torch.round(m(prd_ion2)) == lbl_ion2).float())\n",
    "    accuracies[2] = torch.mean((torch.round(m(prd_ion3)) == lbl_ion3).float())\n",
    "    accuracies[3] = torch.mean((torch.round(m(prd_ion4)) == lbl_ion3).float())\n",
    "    accuracies[4] = torch.mean((torch.round(m(prd_null)) == lbl_null).float())\n",
    "    break"
   ]
  },
  {
   "cell_type": "code",
   "execution_count": 17,
   "metadata": {},
   "outputs": [
    {
     "data": {
      "text/plain": [
       "[tensor(1., device='cuda:0'),\n",
       " tensor(0.9943, device='cuda:0'),\n",
       " tensor(1., device='cuda:0'),\n",
       " tensor(1., device='cuda:0'),\n",
       " tensor(1., device='cuda:0')]"
      ]
     },
     "execution_count": 17,
     "metadata": {},
     "output_type": "execute_result"
    }
   ],
   "source": [
    "accuracies"
   ]
  },
  {
   "cell_type": "code",
   "execution_count": 50,
   "metadata": {},
   "outputs": [
    {
     "name": "stdout",
     "output_type": "stream",
     "text": [
      "torch.Size([223]) torch.Size([223]) torch.Size([223]) torch.Size([223])\n"
     ]
    }
   ],
   "source": [
    "logits_ZN, logits_CA, logits_MG, logits_MN = model(dataloader_train.dataset[0][0], mask=None)"
   ]
  },
  {
   "cell_type": "code",
   "execution_count": 57,
   "metadata": {},
   "outputs": [
    {
     "data": {
      "text/plain": [
       "tensor([-8.1187e-01, -3.2371e-01,  5.3390e-01,  6.4721e-01, -2.5269e-01,\n",
       "        -2.6061e-01,  9.5369e-01,  1.1181e+00, -8.5976e-01, -3.5914e-01,\n",
       "        -7.5647e-01,  1.2678e+00,  8.6327e-01, -3.0958e-01,  9.7458e-01,\n",
       "         3.3607e-01,  2.1437e-01, -1.0128e+00,  8.9785e-01,  2.9640e-01,\n",
       "        -6.1434e-01,  4.8736e-01, -1.6717e-01, -4.1570e-01,  4.4665e-01,\n",
       "         3.0679e-01,  1.6282e+00,  1.8788e+00,  5.6163e-01, -1.5620e-03,\n",
       "        -5.9097e-01,  6.3593e-01,  1.0147e-01,  7.2768e-01,  8.0659e-01,\n",
       "         8.4326e-01,  7.9886e-01,  4.7904e-01,  1.1612e+00,  1.3238e+00,\n",
       "         1.2278e+00, -8.7620e-01,  2.9172e-01,  1.1655e+00, -3.7997e-02,\n",
       "        -3.3806e-01,  2.9960e-01,  8.3189e-01,  8.5580e-01,  4.8761e-01,\n",
       "         1.2747e+00,  1.7801e-01, -1.3051e-02,  7.3867e-01,  8.4856e-01,\n",
       "         1.3563e+00,  1.3695e+00,  1.2275e-01,  7.7704e-01,  2.1522e+00,\n",
       "        -4.3794e-01,  5.5798e-01, -2.5288e-02,  8.7640e-01,  6.4032e-01,\n",
       "         1.0137e+00,  1.0518e+00,  1.3257e+00,  7.1318e-01,  7.1441e-01,\n",
       "        -1.3172e-03,  7.2750e-02, -2.0231e-01,  7.3032e-01,  5.9195e-01,\n",
       "         1.2597e+00,  1.4992e+00, -5.9046e-01,  1.4656e+00,  1.3031e+00,\n",
       "         7.0983e-01,  1.5347e-02,  3.5079e-01,  1.0579e+00,  2.0341e-01,\n",
       "         9.5176e-01,  1.8004e+00,  7.5036e-01,  5.3736e-01,  2.9924e-02,\n",
       "        -1.1520e-01,  7.6182e-01,  1.2849e+00,  4.5001e-01,  2.6348e-01,\n",
       "         2.2456e-01,  6.4130e-01,  3.9726e-01,  7.8151e-01, -5.2922e-01,\n",
       "         2.1634e-01,  1.1804e+00,  1.7592e+00,  6.8177e-01,  7.9008e-01,\n",
       "         6.3285e-01, -9.4034e-02, -8.5661e-02,  2.7700e-01, -7.3764e-01,\n",
       "         5.1854e-01,  7.4530e-01,  4.9907e-01,  8.3502e-01, -1.6345e-01,\n",
       "         4.4109e-01,  3.9420e-01,  1.2064e+00,  7.5313e-01,  4.1930e-01,\n",
       "         7.7188e-02,  1.0121e+00,  7.0094e-02,  2.2244e-01,  4.4304e-01,\n",
       "         9.2100e-01,  1.3305e+00,  6.6654e-01,  5.0672e-01,  3.5612e-01,\n",
       "         7.6140e-01,  4.8048e-01, -7.0800e-01,  1.1998e+00,  1.2333e+00,\n",
       "         1.6408e-03, -3.1105e-01,  1.0043e+00, -6.7214e-01,  5.5205e-01,\n",
       "         1.0342e-01, -6.0601e-01,  1.3930e+00, -6.9184e-02,  6.1412e-01,\n",
       "         7.7475e-01,  2.3140e-01, -2.8117e-01,  8.2471e-01, -1.5703e-01,\n",
       "         1.0136e+00,  5.3772e-01, -4.1661e-01,  4.5640e-01,  8.5252e-01,\n",
       "         8.5130e-01,  1.6512e+00,  1.1771e+00,  8.6229e-01,  5.9227e-01,\n",
       "         3.7694e-01,  1.5675e-01,  6.4481e-01,  5.7930e-01,  2.3772e-01,\n",
       "        -4.1383e-01, -3.8970e-01,  8.1267e-01, -7.4715e-01,  1.1903e+00,\n",
       "         1.1906e+00, -2.8796e-01, -2.7584e-01,  4.4710e-01, -5.0172e-01,\n",
       "        -9.9169e-01,  6.0510e-01, -9.1369e-02, -6.3493e-01, -6.2145e-01,\n",
       "         6.4046e-01,  1.3417e+00,  1.6250e+00,  3.9094e-01,  5.5003e-01,\n",
       "         7.7074e-01, -7.0624e-01, -5.7820e-01, -6.2581e-01,  6.3387e-01,\n",
       "         3.4160e-01,  1.2751e+00, -1.8520e-01, -8.8955e-02,  2.4508e-02,\n",
       "         2.3371e-03,  1.6014e-01, -6.9960e-01,  1.9791e+00, -5.8153e-02,\n",
       "        -1.9369e-01,  1.4241e+00,  1.2101e+00,  1.0947e+00,  2.6833e-01,\n",
       "         5.1075e-01,  7.0808e-01, -2.7175e-01, -1.0427e-01, -1.8557e-01,\n",
       "         2.3481e-01,  1.0260e+00,  5.5154e-01,  6.5348e-01,  9.0051e-02,\n",
       "         1.0777e+00,  5.6077e-01,  9.2895e-01,  9.2080e-01,  3.7284e-01,\n",
       "         8.6918e-01,  4.7940e-01,  1.0155e+00], grad_fn=<SqueezeBackward1>)"
      ]
     },
     "execution_count": 57,
     "metadata": {},
     "output_type": "execute_result"
    }
   ],
   "source": [
    "logits_MN"
   ]
  },
  {
   "cell_type": "code",
   "execution_count": 20,
   "metadata": {},
   "outputs": [
    {
     "data": {
      "text/plain": [
       "768"
      ]
     },
     "execution_count": 20,
     "metadata": {},
     "output_type": "execute_result"
    }
   ],
   "source": [
    "dataloader_train.dataset[0][0].shape[1]"
   ]
  },
  {
   "cell_type": "code",
   "execution_count": 92,
   "metadata": {},
   "outputs": [],
   "source": [
    "from torchviz import make_dot\n",
    "make_dot(yhat, params=dict(list(model.named_parameters()))).render(\"rnn_torchviz\", format=\"png\")"
   ]
  },
  {
   "cell_type": "code",
   "execution_count": 21,
   "metadata": {},
   "outputs": [
    {
     "name": "stdout",
     "output_type": "stream",
     "text": [
      "Counter({'ZN': 7774, 'MG': 7494, 'CA': 6879, 'MN': 2049, 'FE': 1147, 'CU': 746, 'PO4': 690, 'SO4': 579, 'CO': 490, 'FE2': 462})\n"
     ]
    },
    {
     "data": {
      "text/html": [
       "<div>\n",
       "<style scoped>\n",
       "    .dataframe tbody tr th:only-of-type {\n",
       "        vertical-align: middle;\n",
       "    }\n",
       "\n",
       "    .dataframe tbody tr th {\n",
       "        vertical-align: top;\n",
       "    }\n",
       "\n",
       "    .dataframe thead th {\n",
       "        text-align: right;\n",
       "    }\n",
       "</style>\n",
       "<table border=\"1\" class=\"dataframe\">\n",
       "  <thead>\n",
       "    <tr style=\"text-align: right;\">\n",
       "      <th></th>\n",
       "      <th>LigID</th>\n",
       "      <th>pdb_chain</th>\n",
       "      <th>partitions</th>\n",
       "    </tr>\n",
       "  </thead>\n",
       "  <tbody>\n",
       "    <tr>\n",
       "      <th>0</th>\n",
       "      <td>CA</td>\n",
       "      <td>1a0j_A</td>\n",
       "      <td>2</td>\n",
       "    </tr>\n",
       "    <tr>\n",
       "      <th>1</th>\n",
       "      <td>CA</td>\n",
       "      <td>1a0s_P</td>\n",
       "      <td>1</td>\n",
       "    </tr>\n",
       "    <tr>\n",
       "      <th>2</th>\n",
       "      <td>CA</td>\n",
       "      <td>1a25_A</td>\n",
       "      <td>1</td>\n",
       "    </tr>\n",
       "    <tr>\n",
       "      <th>3</th>\n",
       "      <td>CA</td>\n",
       "      <td>1a2q_A</td>\n",
       "      <td>2</td>\n",
       "    </tr>\n",
       "    <tr>\n",
       "      <th>4</th>\n",
       "      <td>CA</td>\n",
       "      <td>1a2t_A</td>\n",
       "      <td>4</td>\n",
       "    </tr>\n",
       "  </tbody>\n",
       "</table>\n",
       "</div>"
      ],
      "text/plain": [
       "  LigID pdb_chain  partitions\n",
       "0    CA    1a0j_A           2\n",
       "1    CA    1a0s_P           1\n",
       "2    CA    1a25_A           1\n",
       "3    CA    1a2q_A           2\n",
       "4    CA    1a2t_A           4"
      ]
     },
     "execution_count": 21,
     "metadata": {},
     "output_type": "execute_result"
    }
   ],
   "source": [
    "import pandas as pd\n",
    "import collections\n",
    "df = pd.read_csv('data/LigID_pdbchain_partition.csv')\n",
    "print(collections.Counter(df['LigID']))\n",
    "df.head()"
   ]
  },
  {
   "cell_type": "code",
   "execution_count": 32,
   "metadata": {},
   "outputs": [
    {
     "name": "stdout",
     "output_type": "stream",
     "text": [
      "Analyzing labels...\n"
     ]
    },
    {
     "name": "stderr",
     "output_type": "stream",
     "text": [
      "100%|██████████| 28310/28310 [00:01<00:00, 16233.22it/s]\n"
     ]
    },
    {
     "name": "stdout",
     "output_type": "stream",
     "text": [
      "Zeros 9072132\n",
      "Ones 151172\n",
      "Ratio: 0.01666333779094043\n",
      "\n",
      "Adding ion info to dict...\n"
     ]
    },
    {
     "name": "stderr",
     "output_type": "stream",
     "text": [
      "100%|██████████| 28310/28310 [00:38<00:00, 744.44it/s]\n"
     ]
    }
   ],
   "source": [
    "# Load pickle file\n",
    "import collections\n",
    "import pickle5 as pickle\n",
    "from tqdm import tqdm\n",
    "with open('data/reduced.pkl', 'rb') as f:\n",
    "    data_dict = pickle.load(f)\n",
    "\n",
    "zeros, ones = 0, 0\n",
    "print('Analyzing labels...')\n",
    "for key in tqdm(data_dict.keys()):\n",
    "    a = [int(x) for x in data_dict[key][1]]\n",
    "    zeros=zeros+collections.Counter(a)[0]\n",
    "    ones=ones+collections.Counter(a)[1]\n",
    "    \n",
    "# print('Zeros', zeros)\n",
    "# print('Ones', ones)\n",
    "# print('Ratio:', ones/zeros)\n",
    "\n",
    "# print('\\nAdding ion info to dict...')\n",
    "# for key in tqdm(data_dict.keys()):\n",
    "#     data_dict[key].append(df[df['pdb_chain']==key]['LigID'].item())\n",
    "# #data_dict"
   ]
  },
  {
   "cell_type": "code",
   "execution_count": 33,
   "metadata": {},
   "outputs": [
    {
     "name": "stderr",
     "output_type": "stream",
     "text": [
      "100%|██████████| 28310/28310 [00:00<00:00, 2549835.64it/s]\n"
     ]
    },
    {
     "data": {
      "text/plain": [
       "Counter({'CA': 6879,\n",
       "         'CO': 490,\n",
       "         'CU': 746,\n",
       "         'FE2': 462,\n",
       "         'FE': 1147,\n",
       "         'MG': 7494,\n",
       "         'MN': 2049,\n",
       "         'PO4': 690,\n",
       "         'SO4': 579,\n",
       "         'ZN': 7774})"
      ]
     },
     "execution_count": 33,
     "metadata": {},
     "output_type": "execute_result"
    }
   ],
   "source": [
    "aa = []\n",
    "for key in tqdm(data_dict.keys()):\n",
    "    aa.append(data_dict[key][2])\n",
    "collections.Counter(aa)"
   ]
  },
  {
   "cell_type": "code",
   "execution_count": 82,
   "metadata": {},
   "outputs": [
    {
     "name": "stderr",
     "output_type": "stream",
     "text": [
      "100%|██████████| 28310/28310 [00:01<00:00, 15915.94it/s]"
     ]
    },
    {
     "name": "stdout",
     "output_type": "stream",
     "text": [
      "CA : Zeros 7560207088 , Ones 181016360 , Ratio: 0.023943307093706425\n",
      "CO : Zeros 1148794417 , Ones 26264356 , Ratio: 0.02286253798881406\n",
      "CU : Zeros 1876301130 , Ones 42557806 , Ratio: 0.022681756845714846\n",
      "FE2 : Zeros 1250032037 , Ones 27866360 , Ratio: 0.022292516651715222\n",
      "FE : Zeros 3397572593 , Ones 73649002 , Ratio: 0.021676947286347503\n",
      "MG : Zeros 33121903899 , Ones 606580722 , Ratio: 0.018313582572115173\n",
      "MN : Zeros 12421163819 , Ones 205015462 , Ratio: 0.016505334362179384\n",
      "PO4 : Zeros 4491340968 , Ones 74033171 , Ratio: 0.016483533877181242\n",
      "SO4 : Zeros 3878365060 , Ones 64629398 , Ratio: 0.016664083189734592\n",
      "ZN : Zeros 61457561704 , Ones 1024332347 , Ratio: 0.016667311858767263\n"
     ]
    },
    {
     "name": "stderr",
     "output_type": "stream",
     "text": [
      "\n"
     ]
    }
   ],
   "source": [
    "ions = list(collections.Counter(df['LigID']).keys())\n",
    "freq_dict = {k: [0,0] for k in ions}\n",
    "zeros, ones = 0, 0\n",
    "for key in tqdm(data_dict.keys()):\n",
    "    a = [int(x) for x in data_dict[key][1]]\n",
    "    zeros+=collections.Counter(a)[0]\n",
    "    ones+=collections.Counter(a)[1]\n",
    "    freq_dict[data_dict[key][2]][0]+=zeros\n",
    "    freq_dict[data_dict[key][2]][1]+=ones\n",
    "    \n",
    "for ion in freq_dict.keys():\n",
    "    zeros, ones = freq_dict[ion]\n",
    "    print(ion, ': Zeros', zeros, ', Ones', ones, ', Ratio:', ones/zeros)"
   ]
  },
  {
   "cell_type": "code",
   "execution_count": null,
   "metadata": {},
   "outputs": [],
   "source": []
  }
 ],
 "metadata": {
  "kernelspec": {
   "display_name": "Python 3.6.13 ('ion')",
   "language": "python",
   "name": "python3"
  },
  "language_info": {
   "codemirror_mode": {
    "name": "ipython",
    "version": 3
   },
   "file_extension": ".py",
   "mimetype": "text/x-python",
   "name": "python",
   "nbconvert_exporter": "python",
   "pygments_lexer": "ipython3",
   "version": "3.6.13"
  },
  "orig_nbformat": 4,
  "vscode": {
   "interpreter": {
    "hash": "9eea4ac00fc0dad156dbd79745452f299f7f980b7a63c4943f7dd0031d0ee12d"
   }
  }
 },
 "nbformat": 4,
 "nbformat_minor": 2
}
